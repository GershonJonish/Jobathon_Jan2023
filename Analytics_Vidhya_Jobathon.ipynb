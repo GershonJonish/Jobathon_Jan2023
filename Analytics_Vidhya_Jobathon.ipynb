{
 "cells": [
  {
   "cell_type": "markdown",
   "id": "b1a846f0",
   "metadata": {},
   "source": [
    "# Importing Libraries and Loading Data"
   ]
  },
  {
   "cell_type": "code",
   "execution_count": 2,
   "id": "393b0062",
   "metadata": {
    "id": "393b0062"
   },
   "outputs": [],
   "source": [
    "# Import the libraries\n",
    "import pandas as pd\n",
    "import numpy as np\n",
    "import sweetviz as sv\n",
    "\n",
    "from sklearn.ensemble import GradientBoostingRegressor\n",
    "\n",
    "from lazypredict.Supervised import LazyRegressor\n",
    "from sklearn.utils import shuffle\n",
    "from sklearn.model_selection import train_test_split\n",
    "from flaml import AutoML\n",
    "\n",
    "import matplotlib.pyplot as plt\n",
    "import seaborn as sns\n",
    "\n",
    "import warnings\n",
    "warnings.filterwarnings('ignore')"
   ]
  },
  {
   "cell_type": "code",
   "execution_count": 3,
   "id": "nDZJ0CfJra3U",
   "metadata": {
    "colab": {
     "base_uri": "https://localhost:8080/"
    },
    "id": "nDZJ0CfJra3U",
    "outputId": "fc615c59-dd06-4dd8-b9dd-e9c86031352e"
   },
   "outputs": [],
   "source": [
    "#from google.colab import drive\n",
    "#drive.mount('/content/drive')"
   ]
  },
  {
   "cell_type": "code",
   "execution_count": 4,
   "id": "DxbgSyA7rpjH",
   "metadata": {
    "id": "DxbgSyA7rpjH"
   },
   "outputs": [],
   "source": [
    "# Load the data\n",
    "train = pd.read_csv('train_BRCpofr.csv')\n",
    "test = pd.read_csv('test_koRSKBP.csv')\n",
    "ss = pd.read_csv('sample_submission.csv')"
   ]
  },
  {
   "cell_type": "code",
   "execution_count": 5,
   "id": "3156cc90",
   "metadata": {
    "colab": {
     "base_uri": "https://localhost:8080/",
     "height": 206
    },
    "id": "3156cc90",
    "outputId": "968eae5d-84b0-4af5-b4d1-e3035071f2ef"
   },
   "outputs": [
    {
     "data": {
      "text/html": [
       "<div>\n",
       "<style scoped>\n",
       "    .dataframe tbody tr th:only-of-type {\n",
       "        vertical-align: middle;\n",
       "    }\n",
       "\n",
       "    .dataframe tbody tr th {\n",
       "        vertical-align: top;\n",
       "    }\n",
       "\n",
       "    .dataframe thead th {\n",
       "        text-align: right;\n",
       "    }\n",
       "</style>\n",
       "<table border=\"1\" class=\"dataframe\">\n",
       "  <thead>\n",
       "    <tr style=\"text-align: right;\">\n",
       "      <th></th>\n",
       "      <th>id</th>\n",
       "      <th>gender</th>\n",
       "      <th>area</th>\n",
       "      <th>qualification</th>\n",
       "      <th>income</th>\n",
       "      <th>marital_status</th>\n",
       "      <th>vintage</th>\n",
       "      <th>claim_amount</th>\n",
       "      <th>num_policies</th>\n",
       "      <th>policy</th>\n",
       "      <th>type_of_policy</th>\n",
       "      <th>cltv</th>\n",
       "    </tr>\n",
       "  </thead>\n",
       "  <tbody>\n",
       "    <tr>\n",
       "      <th>0</th>\n",
       "      <td>1</td>\n",
       "      <td>Male</td>\n",
       "      <td>Urban</td>\n",
       "      <td>Bachelor</td>\n",
       "      <td>5L-10L</td>\n",
       "      <td>1</td>\n",
       "      <td>5</td>\n",
       "      <td>5790</td>\n",
       "      <td>More than 1</td>\n",
       "      <td>A</td>\n",
       "      <td>Platinum</td>\n",
       "      <td>64308</td>\n",
       "    </tr>\n",
       "    <tr>\n",
       "      <th>1</th>\n",
       "      <td>2</td>\n",
       "      <td>Male</td>\n",
       "      <td>Rural</td>\n",
       "      <td>High School</td>\n",
       "      <td>5L-10L</td>\n",
       "      <td>0</td>\n",
       "      <td>8</td>\n",
       "      <td>5080</td>\n",
       "      <td>More than 1</td>\n",
       "      <td>A</td>\n",
       "      <td>Platinum</td>\n",
       "      <td>515400</td>\n",
       "    </tr>\n",
       "    <tr>\n",
       "      <th>2</th>\n",
       "      <td>3</td>\n",
       "      <td>Male</td>\n",
       "      <td>Urban</td>\n",
       "      <td>Bachelor</td>\n",
       "      <td>5L-10L</td>\n",
       "      <td>1</td>\n",
       "      <td>8</td>\n",
       "      <td>2599</td>\n",
       "      <td>More than 1</td>\n",
       "      <td>A</td>\n",
       "      <td>Platinum</td>\n",
       "      <td>64212</td>\n",
       "    </tr>\n",
       "    <tr>\n",
       "      <th>3</th>\n",
       "      <td>4</td>\n",
       "      <td>Female</td>\n",
       "      <td>Rural</td>\n",
       "      <td>High School</td>\n",
       "      <td>5L-10L</td>\n",
       "      <td>0</td>\n",
       "      <td>7</td>\n",
       "      <td>0</td>\n",
       "      <td>More than 1</td>\n",
       "      <td>A</td>\n",
       "      <td>Platinum</td>\n",
       "      <td>97920</td>\n",
       "    </tr>\n",
       "    <tr>\n",
       "      <th>4</th>\n",
       "      <td>5</td>\n",
       "      <td>Male</td>\n",
       "      <td>Urban</td>\n",
       "      <td>High School</td>\n",
       "      <td>More than 10L</td>\n",
       "      <td>1</td>\n",
       "      <td>6</td>\n",
       "      <td>3508</td>\n",
       "      <td>More than 1</td>\n",
       "      <td>A</td>\n",
       "      <td>Gold</td>\n",
       "      <td>59736</td>\n",
       "    </tr>\n",
       "  </tbody>\n",
       "</table>\n",
       "</div>"
      ],
      "text/plain": [
       "   id  gender   area qualification         income  marital_status  vintage  \\\n",
       "0   1    Male  Urban      Bachelor         5L-10L               1        5   \n",
       "1   2    Male  Rural   High School         5L-10L               0        8   \n",
       "2   3    Male  Urban      Bachelor         5L-10L               1        8   \n",
       "3   4  Female  Rural   High School         5L-10L               0        7   \n",
       "4   5    Male  Urban   High School  More than 10L               1        6   \n",
       "\n",
       "   claim_amount num_policies policy type_of_policy    cltv  \n",
       "0          5790  More than 1      A       Platinum   64308  \n",
       "1          5080  More than 1      A       Platinum  515400  \n",
       "2          2599  More than 1      A       Platinum   64212  \n",
       "3             0  More than 1      A       Platinum   97920  \n",
       "4          3508  More than 1      A           Gold   59736  "
      ]
     },
     "execution_count": 5,
     "metadata": {},
     "output_type": "execute_result"
    }
   ],
   "source": [
    "pd.set_option('display.max_columns', 50)\n",
    "train.head()"
   ]
  },
  {
   "cell_type": "markdown",
   "id": "674a6f8e",
   "metadata": {
    "id": "674a6f8e"
   },
   "source": [
    "# EDA"
   ]
  },
  {
   "cell_type": "code",
   "execution_count": 6,
   "id": "0fa8a889",
   "metadata": {},
   "outputs": [
    {
     "data": {
      "text/plain": [
       "(89392, 12)"
      ]
     },
     "execution_count": 6,
     "metadata": {},
     "output_type": "execute_result"
    }
   ],
   "source": [
    "train.shape"
   ]
  },
  {
   "cell_type": "code",
   "execution_count": 7,
   "id": "1634ba54",
   "metadata": {
    "colab": {
     "base_uri": "https://localhost:8080/"
    },
    "id": "1634ba54",
    "outputId": "7d7b0ee9-d50d-4f09-bcaf-d0839463d4ee"
   },
   "outputs": [
    {
     "name": "stdout",
     "output_type": "stream",
     "text": [
      "<class 'pandas.core.frame.DataFrame'>\n",
      "RangeIndex: 89392 entries, 0 to 89391\n",
      "Data columns (total 12 columns):\n",
      " #   Column          Non-Null Count  Dtype \n",
      "---  ------          --------------  ----- \n",
      " 0   id              89392 non-null  int64 \n",
      " 1   gender          89392 non-null  object\n",
      " 2   area            89392 non-null  object\n",
      " 3   qualification   89392 non-null  object\n",
      " 4   income          89392 non-null  object\n",
      " 5   marital_status  89392 non-null  int64 \n",
      " 6   vintage         89392 non-null  int64 \n",
      " 7   claim_amount    89392 non-null  int64 \n",
      " 8   num_policies    89392 non-null  object\n",
      " 9   policy          89392 non-null  object\n",
      " 10  type_of_policy  89392 non-null  object\n",
      " 11  cltv            89392 non-null  int64 \n",
      "dtypes: int64(5), object(7)\n",
      "memory usage: 8.2+ MB\n"
     ]
    }
   ],
   "source": [
    "train.info()"
   ]
  },
  {
   "cell_type": "code",
   "execution_count": 8,
   "id": "4a320295",
   "metadata": {},
   "outputs": [
    {
     "data": {
      "text/plain": [
       "id                0\n",
       "gender            0\n",
       "area              0\n",
       "qualification     0\n",
       "income            0\n",
       "marital_status    0\n",
       "vintage           0\n",
       "claim_amount      0\n",
       "num_policies      0\n",
       "policy            0\n",
       "type_of_policy    0\n",
       "cltv              0\n",
       "dtype: int64"
      ]
     },
     "execution_count": 8,
     "metadata": {},
     "output_type": "execute_result"
    }
   ],
   "source": [
    "train.isnull().sum()"
   ]
  },
  {
   "cell_type": "code",
   "execution_count": 9,
   "id": "d3608093",
   "metadata": {},
   "outputs": [
    {
     "data": {
      "text/html": [
       "<div>\n",
       "<style scoped>\n",
       "    .dataframe tbody tr th:only-of-type {\n",
       "        vertical-align: middle;\n",
       "    }\n",
       "\n",
       "    .dataframe tbody tr th {\n",
       "        vertical-align: top;\n",
       "    }\n",
       "\n",
       "    .dataframe thead th {\n",
       "        text-align: right;\n",
       "    }\n",
       "</style>\n",
       "<table border=\"1\" class=\"dataframe\">\n",
       "  <thead>\n",
       "    <tr style=\"text-align: right;\">\n",
       "      <th></th>\n",
       "      <th>id</th>\n",
       "      <th>marital_status</th>\n",
       "      <th>vintage</th>\n",
       "      <th>claim_amount</th>\n",
       "      <th>cltv</th>\n",
       "    </tr>\n",
       "  </thead>\n",
       "  <tbody>\n",
       "    <tr>\n",
       "      <th>count</th>\n",
       "      <td>89392.00</td>\n",
       "      <td>89392.00</td>\n",
       "      <td>89392.00</td>\n",
       "      <td>89392.00</td>\n",
       "      <td>89392.00</td>\n",
       "    </tr>\n",
       "    <tr>\n",
       "      <th>mean</th>\n",
       "      <td>44696.50</td>\n",
       "      <td>0.58</td>\n",
       "      <td>4.60</td>\n",
       "      <td>4351.50</td>\n",
       "      <td>97952.83</td>\n",
       "    </tr>\n",
       "    <tr>\n",
       "      <th>std</th>\n",
       "      <td>25805.39</td>\n",
       "      <td>0.49</td>\n",
       "      <td>2.29</td>\n",
       "      <td>3262.36</td>\n",
       "      <td>90613.81</td>\n",
       "    </tr>\n",
       "    <tr>\n",
       "      <th>min</th>\n",
       "      <td>1.00</td>\n",
       "      <td>0.00</td>\n",
       "      <td>0.00</td>\n",
       "      <td>0.00</td>\n",
       "      <td>24828.00</td>\n",
       "    </tr>\n",
       "    <tr>\n",
       "      <th>25%</th>\n",
       "      <td>22348.75</td>\n",
       "      <td>0.00</td>\n",
       "      <td>3.00</td>\n",
       "      <td>2406.00</td>\n",
       "      <td>52836.00</td>\n",
       "    </tr>\n",
       "    <tr>\n",
       "      <th>50%</th>\n",
       "      <td>44696.50</td>\n",
       "      <td>1.00</td>\n",
       "      <td>5.00</td>\n",
       "      <td>4089.00</td>\n",
       "      <td>66396.00</td>\n",
       "    </tr>\n",
       "    <tr>\n",
       "      <th>75%</th>\n",
       "      <td>67044.25</td>\n",
       "      <td>1.00</td>\n",
       "      <td>6.00</td>\n",
       "      <td>6094.00</td>\n",
       "      <td>103440.00</td>\n",
       "    </tr>\n",
       "    <tr>\n",
       "      <th>max</th>\n",
       "      <td>89392.00</td>\n",
       "      <td>1.00</td>\n",
       "      <td>8.00</td>\n",
       "      <td>31894.00</td>\n",
       "      <td>724068.00</td>\n",
       "    </tr>\n",
       "  </tbody>\n",
       "</table>\n",
       "</div>"
      ],
      "text/plain": [
       "            id  marital_status  vintage  claim_amount      cltv\n",
       "count 89392.00        89392.00 89392.00      89392.00  89392.00\n",
       "mean  44696.50            0.58     4.60       4351.50  97952.83\n",
       "std   25805.39            0.49     2.29       3262.36  90613.81\n",
       "min       1.00            0.00     0.00          0.00  24828.00\n",
       "25%   22348.75            0.00     3.00       2406.00  52836.00\n",
       "50%   44696.50            1.00     5.00       4089.00  66396.00\n",
       "75%   67044.25            1.00     6.00       6094.00 103440.00\n",
       "max   89392.00            1.00     8.00      31894.00 724068.00"
      ]
     },
     "execution_count": 9,
     "metadata": {},
     "output_type": "execute_result"
    }
   ],
   "source": [
    "train.describe()"
   ]
  },
  {
   "cell_type": "code",
   "execution_count": 17,
   "id": "d47fd9f8",
   "metadata": {},
   "outputs": [
    {
     "name": "stdout",
     "output_type": "stream",
     "text": [
      "['Male' 'Female']\n",
      "['Urban' 'Rural']\n",
      "['Bachelor' 'High School' 'Others']\n",
      "['5L-10L' 'More than 10L' '2L-5L' '<=2L']\n",
      "['More than 1' '1']\n",
      "['A' 'C' 'B']\n",
      "['Platinum' 'Gold' 'Silver']\n"
     ]
    }
   ],
   "source": [
    "categorical_variables = train.columns[train.dtypes == 'object']\n",
    "for i in categorical_variables:\n",
    "    print(train[i].unique())"
   ]
  },
  {
   "cell_type": "code",
   "execution_count": 58,
   "id": "3342fe56",
   "metadata": {},
   "outputs": [],
   "source": [
    "# More EDA with sweetviz\n",
    "\n",
    "#eda = sv.analyze(train)\n",
    "#eda.show_html('edal.html')"
   ]
  },
  {
   "cell_type": "markdown",
   "id": "a3cefbb7",
   "metadata": {
    "id": "a3cefbb7"
   },
   "source": [
    "## Data Processsing and Feature Engineering"
   ]
  },
  {
   "cell_type": "code",
   "execution_count": 62,
   "id": "4ed3cde4",
   "metadata": {
    "id": "4ed3cde4"
   },
   "outputs": [],
   "source": [
    "#Splitting x and y\n",
    "y_train = train['cltv']\n",
    "\n",
    "x_train = train.iloc[:,1:11]\n",
    "x_test = test.iloc[:,1:11]"
   ]
  },
  {
   "cell_type": "code",
   "execution_count": 63,
   "id": "2ba467da",
   "metadata": {
    "colab": {
     "base_uri": "https://localhost:8080/"
    },
    "id": "2ba467da",
    "outputId": "c6d36e25-3a86-456f-e92f-1bc65ed85a8b"
   },
   "outputs": [
    {
     "data": {
      "text/plain": [
       "(148987, 11)"
      ]
     },
     "execution_count": 63,
     "metadata": {},
     "output_type": "execute_result"
    }
   ],
   "source": [
    "#Labelling Train and test to join them for easy analysis and to split them later for test and train seperately\n",
    "\n",
    "x_train['data'] = 'train'\n",
    "x_test['data'] = 'test'\n",
    "all = pd.concat([x_train,x_test])\n",
    "all.shape"
   ]
  },
  {
   "cell_type": "code",
   "execution_count": 64,
   "id": "3TqMlByG20zc",
   "metadata": {
    "colab": {
     "base_uri": "https://localhost:8080/"
    },
    "id": "3TqMlByG20zc",
    "outputId": "ce2a66c8-3278-4fd4-cd43-91bf61bd8a2a"
   },
   "outputs": [
    {
     "data": {
      "text/plain": [
       "0        train\n",
       "1        train\n",
       "2        train\n",
       "3        train\n",
       "4        train\n",
       "         ...  \n",
       "59590     test\n",
       "59591     test\n",
       "59592     test\n",
       "59593     test\n",
       "59594     test\n",
       "Name: data, Length: 148987, dtype: object"
      ]
     },
     "execution_count": 64,
     "metadata": {},
     "output_type": "execute_result"
    }
   ],
   "source": [
    "data_col = all['data']\n",
    "all.drop('data', axis=1, inplace=True)\n",
    "data_col"
   ]
  },
  {
   "cell_type": "code",
   "execution_count": 65,
   "id": "9c5136f7",
   "metadata": {
    "id": "9c5136f7"
   },
   "outputs": [],
   "source": [
    "# Convert times of day to numeric encoded form\n",
    "all['income']=all['income'].replace({ '<=2L':1, '2L-5L':2,'5L-10L':3, 'More than 10L': 4})\n",
    "all['type_of_policy'] = all['type_of_policy'].replace({'Platinum': 3, 'Gold': 2, 'Silver': 1})\n",
    "all['gender'] = all['gender'].replace({'Male': 0, 'Female': 1})\n",
    "all['num_policies'] = all['num_policies'].replace({'1': 0, 'More than 1': 1})\n",
    "all['area'] = all['area'].replace({'Rural': 0,'Urban': 1})\n",
    "all = pd.get_dummies(all)"
   ]
  },
  {
   "cell_type": "code",
   "execution_count": 66,
   "id": "eRFDKIPZA4Sk",
   "metadata": {
    "id": "eRFDKIPZA4Sk"
   },
   "outputs": [],
   "source": [
    "# Creating new feature Claim amount with respect to income\n",
    "\n",
    "h = all['income']\n",
    "all['claim/income'] = all['claim_amount']/h"
   ]
  },
  {
   "cell_type": "code",
   "execution_count": 67,
   "id": "TS2YrUy72Kbo",
   "metadata": {
    "colab": {
     "base_uri": "https://localhost:8080/",
     "height": 287
    },
    "id": "TS2YrUy72Kbo",
    "outputId": "0b10f9f4-1590-4350-8d6d-b45b14d62b17"
   },
   "outputs": [
    {
     "data": {
      "text/html": [
       "<div>\n",
       "<style scoped>\n",
       "    .dataframe tbody tr th:only-of-type {\n",
       "        vertical-align: middle;\n",
       "    }\n",
       "\n",
       "    .dataframe tbody tr th {\n",
       "        vertical-align: top;\n",
       "    }\n",
       "\n",
       "    .dataframe thead th {\n",
       "        text-align: right;\n",
       "    }\n",
       "</style>\n",
       "<table border=\"1\" class=\"dataframe\">\n",
       "  <thead>\n",
       "    <tr style=\"text-align: right;\">\n",
       "      <th></th>\n",
       "      <th>gender</th>\n",
       "      <th>area</th>\n",
       "      <th>income</th>\n",
       "      <th>marital_status</th>\n",
       "      <th>vintage</th>\n",
       "      <th>claim_amount</th>\n",
       "      <th>num_policies</th>\n",
       "      <th>type_of_policy</th>\n",
       "      <th>qualification_Bachelor</th>\n",
       "      <th>qualification_High School</th>\n",
       "      <th>qualification_Others</th>\n",
       "      <th>policy_A</th>\n",
       "      <th>policy_B</th>\n",
       "      <th>policy_C</th>\n",
       "      <th>claim/income</th>\n",
       "    </tr>\n",
       "  </thead>\n",
       "  <tbody>\n",
       "    <tr>\n",
       "      <th>0</th>\n",
       "      <td>0</td>\n",
       "      <td>1</td>\n",
       "      <td>3</td>\n",
       "      <td>1</td>\n",
       "      <td>5</td>\n",
       "      <td>5790</td>\n",
       "      <td>1</td>\n",
       "      <td>3</td>\n",
       "      <td>1</td>\n",
       "      <td>0</td>\n",
       "      <td>0</td>\n",
       "      <td>1</td>\n",
       "      <td>0</td>\n",
       "      <td>0</td>\n",
       "      <td>1930.00</td>\n",
       "    </tr>\n",
       "    <tr>\n",
       "      <th>1</th>\n",
       "      <td>0</td>\n",
       "      <td>0</td>\n",
       "      <td>3</td>\n",
       "      <td>0</td>\n",
       "      <td>8</td>\n",
       "      <td>5080</td>\n",
       "      <td>1</td>\n",
       "      <td>3</td>\n",
       "      <td>0</td>\n",
       "      <td>1</td>\n",
       "      <td>0</td>\n",
       "      <td>1</td>\n",
       "      <td>0</td>\n",
       "      <td>0</td>\n",
       "      <td>1693.33</td>\n",
       "    </tr>\n",
       "    <tr>\n",
       "      <th>2</th>\n",
       "      <td>0</td>\n",
       "      <td>1</td>\n",
       "      <td>3</td>\n",
       "      <td>1</td>\n",
       "      <td>8</td>\n",
       "      <td>2599</td>\n",
       "      <td>1</td>\n",
       "      <td>3</td>\n",
       "      <td>1</td>\n",
       "      <td>0</td>\n",
       "      <td>0</td>\n",
       "      <td>1</td>\n",
       "      <td>0</td>\n",
       "      <td>0</td>\n",
       "      <td>866.33</td>\n",
       "    </tr>\n",
       "    <tr>\n",
       "      <th>3</th>\n",
       "      <td>1</td>\n",
       "      <td>0</td>\n",
       "      <td>3</td>\n",
       "      <td>0</td>\n",
       "      <td>7</td>\n",
       "      <td>0</td>\n",
       "      <td>1</td>\n",
       "      <td>3</td>\n",
       "      <td>0</td>\n",
       "      <td>1</td>\n",
       "      <td>0</td>\n",
       "      <td>1</td>\n",
       "      <td>0</td>\n",
       "      <td>0</td>\n",
       "      <td>0.00</td>\n",
       "    </tr>\n",
       "    <tr>\n",
       "      <th>4</th>\n",
       "      <td>0</td>\n",
       "      <td>1</td>\n",
       "      <td>4</td>\n",
       "      <td>1</td>\n",
       "      <td>6</td>\n",
       "      <td>3508</td>\n",
       "      <td>1</td>\n",
       "      <td>2</td>\n",
       "      <td>0</td>\n",
       "      <td>1</td>\n",
       "      <td>0</td>\n",
       "      <td>1</td>\n",
       "      <td>0</td>\n",
       "      <td>0</td>\n",
       "      <td>877.00</td>\n",
       "    </tr>\n",
       "  </tbody>\n",
       "</table>\n",
       "</div>"
      ],
      "text/plain": [
       "   gender  area  income  marital_status  vintage  claim_amount  num_policies  \\\n",
       "0       0     1       3               1        5          5790             1   \n",
       "1       0     0       3               0        8          5080             1   \n",
       "2       0     1       3               1        8          2599             1   \n",
       "3       1     0       3               0        7             0             1   \n",
       "4       0     1       4               1        6          3508             1   \n",
       "\n",
       "   type_of_policy  qualification_Bachelor  qualification_High School  \\\n",
       "0               3                       1                          0   \n",
       "1               3                       0                          1   \n",
       "2               3                       1                          0   \n",
       "3               3                       0                          1   \n",
       "4               2                       0                          1   \n",
       "\n",
       "   qualification_Others  policy_A  policy_B  policy_C  claim/income  \n",
       "0                     0         1         0         0       1930.00  \n",
       "1                     0         1         0         0       1693.33  \n",
       "2                     0         1         0         0        866.33  \n",
       "3                     0         1         0         0          0.00  \n",
       "4                     0         1         0         0        877.00  "
      ]
     },
     "execution_count": 67,
     "metadata": {},
     "output_type": "execute_result"
    }
   ],
   "source": [
    "all.head()"
   ]
  },
  {
   "cell_type": "code",
   "execution_count": 68,
   "id": "669224c2",
   "metadata": {
    "colab": {
     "base_uri": "https://localhost:8080/"
    },
    "id": "669224c2",
    "outputId": "de10819b-eccf-471e-9f75-96db371891de"
   },
   "outputs": [
    {
     "data": {
      "text/plain": [
       "Index([], dtype='object')"
      ]
     },
     "execution_count": 68,
     "metadata": {},
     "output_type": "execute_result"
    }
   ],
   "source": [
    "num_cols= all.columns[np.where(all.dtypes == object)[0]]\n",
    "num_cols"
   ]
  },
  {
   "cell_type": "code",
   "execution_count": 69,
   "id": "ade85438",
   "metadata": {
    "id": "ade85438"
   },
   "outputs": [],
   "source": [
    "num_cols2= ['claim_amount', 'claim/year' ]\n",
    "\n",
    "def remove_outliers(data,num_cols):\n",
    "    for col in num_cols:\n",
    "        limit = (data[col].quantile(0.75) - data[col].quantile(0.25))*1.5\n",
    "        \n",
    "        high = data[col].quantile(0.75) + limit\n",
    "        low = data[col].quantile(0.25)- limit\n",
    "        \n",
    "        data[col] = np.where(\n",
    "            data[col] > high,\n",
    "            high,\n",
    "            np.where(\n",
    "                data[col] < low,\n",
    "                low,\n",
    "                data[col]))\n",
    "    return(data)\n",
    "\n",
    "all = remove_outliers(all,num_cols)"
   ]
  },
  {
   "cell_type": "code",
   "execution_count": 70,
   "id": "vnzHdqng3MVE",
   "metadata": {
    "id": "vnzHdqng3MVE"
   },
   "outputs": [],
   "source": [
    "all['data'] = data_col"
   ]
  },
  {
   "cell_type": "code",
   "execution_count": 71,
   "id": "793fbbf7",
   "metadata": {
    "id": "793fbbf7"
   },
   "outputs": [],
   "source": [
    "# Seperate Train, Test features\n",
    "x_train = all[all['data'] == 'train'] \n",
    "x_test = all[all['data'] == 'test']\n",
    "                                                                                          \n",
    "x_train = x_train.drop(['data'], axis=1)\n",
    "x_test = x_test.drop(['data'], axis=1)"
   ]
  },
  {
   "cell_type": "code",
   "execution_count": 72,
   "id": "qsRD9S4x0veI",
   "metadata": {
    "colab": {
     "base_uri": "https://localhost:8080/"
    },
    "id": "qsRD9S4x0veI",
    "outputId": "4e16df4d-fbba-4573-aaa3-99b8cd72fcb9"
   },
   "outputs": [
    {
     "data": {
      "text/plain": [
       "gender                       0\n",
       "area                         0\n",
       "income                       0\n",
       "marital_status               0\n",
       "vintage                      0\n",
       "claim_amount                 0\n",
       "num_policies                 0\n",
       "type_of_policy               0\n",
       "qualification_Bachelor       0\n",
       "qualification_High School    0\n",
       "qualification_Others         0\n",
       "policy_A                     0\n",
       "policy_B                     0\n",
       "policy_C                     0\n",
       "claim/income                 0\n",
       "dtype: int64"
      ]
     },
     "execution_count": 72,
     "metadata": {},
     "output_type": "execute_result"
    }
   ],
   "source": [
    "x_train.isnull().sum()"
   ]
  },
  {
   "cell_type": "markdown",
   "id": "13ac8470",
   "metadata": {
    "id": "13ac8470"
   },
   "source": [
    "# AutoML "
   ]
  },
  {
   "cell_type": "code",
   "execution_count": 73,
   "id": "85044169",
   "metadata": {
    "id": "85044169"
   },
   "outputs": [],
   "source": [
    "automl_log = AutoML() "
   ]
  },
  {
   "cell_type": "code",
   "execution_count": 74,
   "id": "fbc2ce7f",
   "metadata": {
    "colab": {
     "base_uri": "https://localhost:8080/"
    },
    "id": "fbc2ce7f",
    "outputId": "c627744e-a198-4624-9515-07675a0f9d7f"
   },
   "outputs": [
    {
     "name": "stdout",
     "output_type": "stream",
     "text": [
      "[flaml.automl.automl: 01-22 20:57:41] {2715} INFO - task = regression\n",
      "[flaml.automl.automl: 01-22 20:57:41] {2717} INFO - Data split method: uniform\n",
      "[flaml.automl.automl: 01-22 20:57:41] {2720} INFO - Evaluation method: holdout\n",
      "[flaml.automl.automl: 01-22 20:57:41] {2847} INFO - Minimizing error metric: 1-r2\n",
      "[flaml.automl.automl: 01-22 20:57:41] {2993} INFO - List of ML learners in AutoML Run: ['lgbm']\n",
      "[flaml.automl.automl: 01-22 20:57:41] {3322} INFO - iteration 0, current learner lgbm\n",
      "[flaml.automl.automl: 01-22 20:57:41] {3460} INFO - Estimated sufficient time budget=4425s. Estimated necessary time budget=4s.\n",
      "[flaml.automl.automl: 01-22 20:57:41] {3507} INFO -  at 0.3s,\testimator lgbm's best error=0.9208,\tbest estimator lgbm's best error=0.9208\n",
      "[flaml.automl.automl: 01-22 20:57:41] {3322} INFO - iteration 1, current learner lgbm\n",
      "[flaml.automl.automl: 01-22 20:57:41] {3507} INFO -  at 0.4s,\testimator lgbm's best error=0.9208,\tbest estimator lgbm's best error=0.9208\n",
      "[flaml.automl.automl: 01-22 20:57:41] {3322} INFO - iteration 2, current learner lgbm\n",
      "[flaml.automl.automl: 01-22 20:57:41] {3507} INFO -  at 0.4s,\testimator lgbm's best error=0.8695,\tbest estimator lgbm's best error=0.8695\n",
      "[flaml.automl.automl: 01-22 20:57:41] {3322} INFO - iteration 3, current learner lgbm\n",
      "[flaml.automl.automl: 01-22 20:57:41] {3507} INFO -  at 0.5s,\testimator lgbm's best error=0.8541,\tbest estimator lgbm's best error=0.8541\n",
      "[flaml.automl.automl: 01-22 20:57:41] {3322} INFO - iteration 4, current learner lgbm\n",
      "[flaml.automl.automl: 01-22 20:57:41] {3507} INFO -  at 0.5s,\testimator lgbm's best error=0.8541,\tbest estimator lgbm's best error=0.8541\n",
      "[flaml.automl.automl: 01-22 20:57:41] {3322} INFO - iteration 5, current learner lgbm\n",
      "[flaml.automl.automl: 01-22 20:57:42] {3507} INFO -  at 0.6s,\testimator lgbm's best error=0.8541,\tbest estimator lgbm's best error=0.8541\n",
      "[flaml.automl.automl: 01-22 20:57:42] {3322} INFO - iteration 6, current learner lgbm\n",
      "[flaml.automl.automl: 01-22 20:57:42] {3507} INFO -  at 0.7s,\testimator lgbm's best error=0.8513,\tbest estimator lgbm's best error=0.8513\n",
      "[flaml.automl.automl: 01-22 20:57:42] {3322} INFO - iteration 7, current learner lgbm\n",
      "[flaml.automl.automl: 01-22 20:57:42] {3507} INFO -  at 0.7s,\testimator lgbm's best error=0.8513,\tbest estimator lgbm's best error=0.8513\n",
      "[flaml.automl.automl: 01-22 20:57:42] {3322} INFO - iteration 8, current learner lgbm\n",
      "[flaml.automl.automl: 01-22 20:57:42] {3507} INFO -  at 0.9s,\testimator lgbm's best error=0.8513,\tbest estimator lgbm's best error=0.8513\n",
      "[flaml.automl.automl: 01-22 20:57:42] {3322} INFO - iteration 9, current learner lgbm\n",
      "[flaml.automl.automl: 01-22 20:57:42] {3507} INFO -  at 0.9s,\testimator lgbm's best error=0.8513,\tbest estimator lgbm's best error=0.8513\n",
      "[flaml.automl.automl: 01-22 20:57:42] {3322} INFO - iteration 10, current learner lgbm\n",
      "[flaml.automl.automl: 01-22 20:57:42] {3507} INFO -  at 1.1s,\testimator lgbm's best error=0.8513,\tbest estimator lgbm's best error=0.8513\n",
      "[flaml.automl.automl: 01-22 20:57:42] {3322} INFO - iteration 11, current learner lgbm\n",
      "[flaml.automl.automl: 01-22 20:57:42] {3507} INFO -  at 1.2s,\testimator lgbm's best error=0.8510,\tbest estimator lgbm's best error=0.8510\n",
      "[flaml.automl.automl: 01-22 20:57:42] {3322} INFO - iteration 12, current learner lgbm\n",
      "[flaml.automl.automl: 01-22 20:57:42] {3507} INFO -  at 1.4s,\testimator lgbm's best error=0.8510,\tbest estimator lgbm's best error=0.8510\n",
      "[flaml.automl.automl: 01-22 20:57:42] {3322} INFO - iteration 13, current learner lgbm\n",
      "[flaml.automl.automl: 01-22 20:57:42] {3507} INFO -  at 1.5s,\testimator lgbm's best error=0.8510,\tbest estimator lgbm's best error=0.8510\n",
      "[flaml.automl.automl: 01-22 20:57:42] {3322} INFO - iteration 14, current learner lgbm\n",
      "[flaml.automl.automl: 01-22 20:57:43] {3507} INFO -  at 1.7s,\testimator lgbm's best error=0.8507,\tbest estimator lgbm's best error=0.8507\n",
      "[flaml.automl.automl: 01-22 20:57:43] {3322} INFO - iteration 15, current learner lgbm\n",
      "[flaml.automl.automl: 01-22 20:57:43] {3507} INFO -  at 1.9s,\testimator lgbm's best error=0.8507,\tbest estimator lgbm's best error=0.8507\n",
      "[flaml.automl.automl: 01-22 20:57:43] {3322} INFO - iteration 16, current learner lgbm\n",
      "[flaml.automl.automl: 01-22 20:57:43] {3507} INFO -  at 2.1s,\testimator lgbm's best error=0.8507,\tbest estimator lgbm's best error=0.8507\n",
      "[flaml.automl.automl: 01-22 20:57:43] {3322} INFO - iteration 17, current learner lgbm\n",
      "[flaml.automl.automl: 01-22 20:57:43] {3507} INFO -  at 2.4s,\testimator lgbm's best error=0.8503,\tbest estimator lgbm's best error=0.8503\n",
      "[flaml.automl.automl: 01-22 20:57:43] {3322} INFO - iteration 18, current learner lgbm\n",
      "[flaml.automl.automl: 01-22 20:57:44] {3507} INFO -  at 2.6s,\testimator lgbm's best error=0.8503,\tbest estimator lgbm's best error=0.8503\n",
      "[flaml.automl.automl: 01-22 20:57:44] {3322} INFO - iteration 19, current learner lgbm\n",
      "[flaml.automl.automl: 01-22 20:57:44] {3507} INFO -  at 2.9s,\testimator lgbm's best error=0.8499,\tbest estimator lgbm's best error=0.8499\n",
      "[flaml.automl.automl: 01-22 20:57:44] {3322} INFO - iteration 20, current learner lgbm\n",
      "[flaml.automl.automl: 01-22 20:57:44] {3507} INFO -  at 3.1s,\testimator lgbm's best error=0.8499,\tbest estimator lgbm's best error=0.8499\n",
      "[flaml.automl.automl: 01-22 20:57:44] {3322} INFO - iteration 21, current learner lgbm\n",
      "[flaml.automl.automl: 01-22 20:57:45] {3507} INFO -  at 3.8s,\testimator lgbm's best error=0.8488,\tbest estimator lgbm's best error=0.8488\n",
      "[flaml.automl.automl: 01-22 20:57:45] {3322} INFO - iteration 22, current learner lgbm\n",
      "[flaml.automl.automl: 01-22 20:57:46] {3507} INFO -  at 5.0s,\testimator lgbm's best error=0.8488,\tbest estimator lgbm's best error=0.8488\n",
      "[flaml.automl.automl: 01-22 20:57:46] {3322} INFO - iteration 23, current learner lgbm\n",
      "[flaml.automl.automl: 01-22 20:57:46] {3507} INFO -  at 5.4s,\testimator lgbm's best error=0.8488,\tbest estimator lgbm's best error=0.8488\n",
      "[flaml.automl.automl: 01-22 20:57:46] {3322} INFO - iteration 24, current learner lgbm\n",
      "[flaml.automl.automl: 01-22 20:57:47] {3507} INFO -  at 6.1s,\testimator lgbm's best error=0.8488,\tbest estimator lgbm's best error=0.8488\n",
      "[flaml.automl.automl: 01-22 20:57:47] {3322} INFO - iteration 25, current learner lgbm\n",
      "[flaml.automl.automl: 01-22 20:57:48] {3507} INFO -  at 6.6s,\testimator lgbm's best error=0.8488,\tbest estimator lgbm's best error=0.8488\n",
      "[flaml.automl.automl: 01-22 20:57:48] {3322} INFO - iteration 26, current learner lgbm\n",
      "[flaml.automl.automl: 01-22 20:57:48] {3507} INFO -  at 7.1s,\testimator lgbm's best error=0.8488,\tbest estimator lgbm's best error=0.8488\n",
      "[flaml.automl.automl: 01-22 20:57:48] {3322} INFO - iteration 27, current learner lgbm\n",
      "[flaml.automl.automl: 01-22 20:57:49] {3507} INFO -  at 7.9s,\testimator lgbm's best error=0.8488,\tbest estimator lgbm's best error=0.8488\n",
      "[flaml.automl.automl: 01-22 20:57:49] {3322} INFO - iteration 28, current learner lgbm\n",
      "[flaml.automl.automl: 01-22 20:57:50] {3507} INFO -  at 9.3s,\testimator lgbm's best error=0.8488,\tbest estimator lgbm's best error=0.8488\n",
      "[flaml.automl.automl: 01-22 20:57:50] {3322} INFO - iteration 29, current learner lgbm\n",
      "[flaml.automl.automl: 01-22 20:57:51] {3507} INFO -  at 9.7s,\testimator lgbm's best error=0.8488,\tbest estimator lgbm's best error=0.8488\n",
      "[flaml.automl.automl: 01-22 20:57:51] {3322} INFO - iteration 30, current learner lgbm\n",
      "[flaml.automl.automl: 01-22 20:57:51] {3507} INFO -  at 10.2s,\testimator lgbm's best error=0.8488,\tbest estimator lgbm's best error=0.8488\n",
      "[flaml.automl.automl: 01-22 20:57:51] {3322} INFO - iteration 31, current learner lgbm\n",
      "[flaml.automl.automl: 01-22 20:57:52] {3507} INFO -  at 11.2s,\testimator lgbm's best error=0.8488,\tbest estimator lgbm's best error=0.8488\n",
      "[flaml.automl.automl: 01-22 20:57:52] {3322} INFO - iteration 32, current learner lgbm\n",
      "[flaml.automl.automl: 01-22 20:57:52] {3507} INFO -  at 11.6s,\testimator lgbm's best error=0.8488,\tbest estimator lgbm's best error=0.8488\n",
      "[flaml.automl.automl: 01-22 20:57:52] {3322} INFO - iteration 33, current learner lgbm\n",
      "[flaml.automl.automl: 01-22 20:57:54] {3507} INFO -  at 12.8s,\testimator lgbm's best error=0.8488,\tbest estimator lgbm's best error=0.8488\n",
      "[flaml.automl.automl: 01-22 20:57:54] {3322} INFO - iteration 34, current learner lgbm\n",
      "[flaml.automl.automl: 01-22 20:57:54] {3507} INFO -  at 13.3s,\testimator lgbm's best error=0.8488,\tbest estimator lgbm's best error=0.8488\n",
      "[flaml.automl.automl: 01-22 20:57:54] {3322} INFO - iteration 35, current learner lgbm\n",
      "[flaml.automl.automl: 01-22 20:57:55] {3507} INFO -  at 14.3s,\testimator lgbm's best error=0.8488,\tbest estimator lgbm's best error=0.8488\n",
      "[flaml.automl.automl: 01-22 20:57:55] {3322} INFO - iteration 36, current learner lgbm\n",
      "[flaml.automl.automl: 01-22 20:57:58] {3507} INFO -  at 17.3s,\testimator lgbm's best error=0.8488,\tbest estimator lgbm's best error=0.8488\n",
      "[flaml.automl.automl: 01-22 20:57:58] {3322} INFO - iteration 37, current learner lgbm\n",
      "[flaml.automl.automl: 01-22 20:57:58] {3507} INFO -  at 17.5s,\testimator lgbm's best error=0.8488,\tbest estimator lgbm's best error=0.8488\n",
      "[flaml.automl.automl: 01-22 20:57:58] {3322} INFO - iteration 38, current learner lgbm\n",
      "[flaml.automl.automl: 01-22 20:58:00] {3507} INFO -  at 19.0s,\testimator lgbm's best error=0.8488,\tbest estimator lgbm's best error=0.8488\n",
      "[flaml.automl.automl: 01-22 20:58:00] {3322} INFO - iteration 39, current learner lgbm\n",
      "[flaml.automl.automl: 01-22 20:58:00] {3507} INFO -  at 19.4s,\testimator lgbm's best error=0.8488,\tbest estimator lgbm's best error=0.8488\n",
      "[flaml.automl.automl: 01-22 20:58:00] {3322} INFO - iteration 40, current learner lgbm\n",
      "[flaml.automl.automl: 01-22 20:58:02] {3507} INFO -  at 21.4s,\testimator lgbm's best error=0.8488,\tbest estimator lgbm's best error=0.8488\n",
      "[flaml.automl.automl: 01-22 20:58:02] {3322} INFO - iteration 41, current learner lgbm\n",
      "[flaml.automl.automl: 01-22 20:58:03] {3507} INFO -  at 21.7s,\testimator lgbm's best error=0.8488,\tbest estimator lgbm's best error=0.8488\n",
      "[flaml.automl.automl: 01-22 20:58:03] {3322} INFO - iteration 42, current learner lgbm\n",
      "[flaml.automl.automl: 01-22 20:58:03] {3507} INFO -  at 22.0s,\testimator lgbm's best error=0.8488,\tbest estimator lgbm's best error=0.8488\n",
      "[flaml.automl.automl: 01-22 20:58:03] {3322} INFO - iteration 43, current learner lgbm\n",
      "[flaml.automl.automl: 01-22 20:58:05] {3507} INFO -  at 24.6s,\testimator lgbm's best error=0.8488,\tbest estimator lgbm's best error=0.8488\n",
      "[flaml.automl.automl: 01-22 20:58:05] {3322} INFO - iteration 44, current learner lgbm\n",
      "[flaml.automl.automl: 01-22 20:58:07] {3507} INFO -  at 25.7s,\testimator lgbm's best error=0.8488,\tbest estimator lgbm's best error=0.8488\n",
      "[flaml.automl.automl: 01-22 20:58:07] {3322} INFO - iteration 45, current learner lgbm\n",
      "[flaml.automl.automl: 01-22 20:58:07] {3507} INFO -  at 26.0s,\testimator lgbm's best error=0.8488,\tbest estimator lgbm's best error=0.8488\n",
      "[flaml.automl.automl: 01-22 20:58:07] {3322} INFO - iteration 46, current learner lgbm\n",
      "[flaml.automl.automl: 01-22 20:58:07] {3507} INFO -  at 26.3s,\testimator lgbm's best error=0.8488,\tbest estimator lgbm's best error=0.8488\n",
      "[flaml.automl.automl: 01-22 20:58:07] {3322} INFO - iteration 47, current learner lgbm\n",
      "[flaml.automl.automl: 01-22 20:58:09] {3507} INFO -  at 28.5s,\testimator lgbm's best error=0.8488,\tbest estimator lgbm's best error=0.8488\n",
      "[flaml.automl.automl: 01-22 20:58:09] {3322} INFO - iteration 48, current learner lgbm\n",
      "[flaml.automl.automl: 01-22 20:58:10] {3507} INFO -  at 28.7s,\testimator lgbm's best error=0.8488,\tbest estimator lgbm's best error=0.8488\n",
      "[flaml.automl.automl: 01-22 20:58:10] {3322} INFO - iteration 49, current learner lgbm\n",
      "[flaml.automl.automl: 01-22 20:58:13] {3507} INFO -  at 32.6s,\testimator lgbm's best error=0.8488,\tbest estimator lgbm's best error=0.8488\n",
      "[flaml.automl.automl: 01-22 20:58:13] {3322} INFO - iteration 50, current learner lgbm\n",
      "[flaml.automl.automl: 01-22 20:58:14] {3507} INFO -  at 32.8s,\testimator lgbm's best error=0.8488,\tbest estimator lgbm's best error=0.8488\n",
      "[flaml.automl.automl: 01-22 20:58:14] {3322} INFO - iteration 51, current learner lgbm\n",
      "[flaml.automl.automl: 01-22 20:58:18] {3507} INFO -  at 37.4s,\testimator lgbm's best error=0.8488,\tbest estimator lgbm's best error=0.8488\n",
      "[flaml.automl.automl: 01-22 20:58:18] {3322} INFO - iteration 52, current learner lgbm\n",
      "[flaml.automl.automl: 01-22 20:58:23] {3507} INFO -  at 42.2s,\testimator lgbm's best error=0.8488,\tbest estimator lgbm's best error=0.8488\n",
      "[flaml.automl.automl: 01-22 20:58:23] {3322} INFO - iteration 53, current learner lgbm\n",
      "[flaml.automl.automl: 01-22 20:58:23] {3507} INFO -  at 42.4s,\testimator lgbm's best error=0.8488,\tbest estimator lgbm's best error=0.8488\n",
      "[flaml.automl.automl: 01-22 20:58:23] {3322} INFO - iteration 54, current learner lgbm\n",
      "[flaml.automl.automl: 01-22 20:58:27] {3507} INFO -  at 45.7s,\testimator lgbm's best error=0.8488,\tbest estimator lgbm's best error=0.8488\n",
      "[flaml.automl.automl: 01-22 20:58:27] {3322} INFO - iteration 55, current learner lgbm\n",
      "[flaml.automl.automl: 01-22 20:58:27] {3507} INFO -  at 45.9s,\testimator lgbm's best error=0.8488,\tbest estimator lgbm's best error=0.8488\n",
      "[flaml.automl.automl: 01-22 20:58:27] {3322} INFO - iteration 56, current learner lgbm\n",
      "[flaml.automl.automl: 01-22 20:58:29] {3507} INFO -  at 47.7s,\testimator lgbm's best error=0.8488,\tbest estimator lgbm's best error=0.8488\n",
      "[flaml.automl.automl: 01-22 20:58:29] {3322} INFO - iteration 57, current learner lgbm\n",
      "[flaml.automl.automl: 01-22 20:58:29] {3507} INFO -  at 48.1s,\testimator lgbm's best error=0.8488,\tbest estimator lgbm's best error=0.8488\n",
      "[flaml.automl.automl: 01-22 20:58:29] {3322} INFO - iteration 58, current learner lgbm\n",
      "[flaml.automl.automl: 01-22 20:58:30] {3507} INFO -  at 48.6s,\testimator lgbm's best error=0.8488,\tbest estimator lgbm's best error=0.8488\n",
      "[flaml.automl.automl: 01-22 20:58:30] {3322} INFO - iteration 59, current learner lgbm\n",
      "[flaml.automl.automl: 01-22 20:58:30] {3507} INFO -  at 49.5s,\testimator lgbm's best error=0.8488,\tbest estimator lgbm's best error=0.8488\n",
      "[flaml.automl.automl: 01-22 20:58:30] {3322} INFO - iteration 60, current learner lgbm\n",
      "[flaml.automl.automl: 01-22 20:58:31] {3507} INFO -  at 49.9s,\testimator lgbm's best error=0.8488,\tbest estimator lgbm's best error=0.8488\n",
      "[flaml.automl.automl: 01-22 20:58:31] {3322} INFO - iteration 61, current learner lgbm\n",
      "[flaml.automl.automl: 01-22 20:58:32] {3507} INFO -  at 51.3s,\testimator lgbm's best error=0.8488,\tbest estimator lgbm's best error=0.8488\n",
      "[flaml.automl.automl: 01-22 20:58:32] {3322} INFO - iteration 62, current learner lgbm\n",
      "[flaml.automl.automl: 01-22 20:58:36] {3507} INFO -  at 54.9s,\testimator lgbm's best error=0.8488,\tbest estimator lgbm's best error=0.8488\n",
      "[flaml.automl.automl: 01-22 20:58:36] {3322} INFO - iteration 63, current learner lgbm\n",
      "[flaml.automl.automl: 01-22 20:58:36] {3507} INFO -  at 55.2s,\testimator lgbm's best error=0.8488,\tbest estimator lgbm's best error=0.8488\n",
      "[flaml.automl.automl: 01-22 20:58:36] {3322} INFO - iteration 64, current learner lgbm\n",
      "[flaml.automl.automl: 01-22 20:58:37] {3507} INFO -  at 56.1s,\testimator lgbm's best error=0.8488,\tbest estimator lgbm's best error=0.8488\n",
      "[flaml.automl.automl: 01-22 20:58:37] {3322} INFO - iteration 65, current learner lgbm\n",
      "[flaml.automl.automl: 01-22 20:58:38] {3507} INFO -  at 56.7s,\testimator lgbm's best error=0.8488,\tbest estimator lgbm's best error=0.8488\n",
      "[flaml.automl.automl: 01-22 20:58:38] {3322} INFO - iteration 66, current learner lgbm\n",
      "[flaml.automl.automl: 01-22 20:58:39] {3507} INFO -  at 57.9s,\testimator lgbm's best error=0.8488,\tbest estimator lgbm's best error=0.8488\n",
      "[flaml.automl.automl: 01-22 20:58:39] {3322} INFO - iteration 67, current learner lgbm\n",
      "[flaml.automl.automl: 01-22 20:58:39] {3507} INFO -  at 58.5s,\testimator lgbm's best error=0.8488,\tbest estimator lgbm's best error=0.8488\n",
      "[flaml.automl.automl: 01-22 20:58:39] {3322} INFO - iteration 68, current learner lgbm\n",
      "[flaml.automl.automl: 01-22 20:58:40] {3507} INFO -  at 59.0s,\testimator lgbm's best error=0.8488,\tbest estimator lgbm's best error=0.8488\n",
      "[flaml.automl.automl: 01-22 20:58:40] {3322} INFO - iteration 69, current learner lgbm\n",
      "[flaml.automl.automl: 01-22 20:58:41] {3507} INFO -  at 60.0s,\testimator lgbm's best error=0.8488,\tbest estimator lgbm's best error=0.8488\n",
      "[flaml.automl.automl: 01-22 20:58:41] {3771} INFO - retrain lgbm for 0.6s\n",
      "[flaml.automl.automl: 01-22 20:58:41] {3778} INFO - retrained model: LGBMRegressor(colsample_bytree=0.6839995423902253,\n",
      "              learning_rate=0.0931069218713331, max_bin=63,\n",
      "              min_child_samples=18, n_estimators=74, num_leaves=9,\n",
      "              reg_alpha=0.002062299388929132, reg_lambda=67.29136614766921,\n",
      "              verbose=-1)\n",
      "[flaml.automl.automl: 01-22 20:58:41] {3023} INFO - fit succeeded\n",
      "[flaml.automl.automl: 01-22 20:58:41] {3024} INFO - Time taken to find the best model: 3.7982187271118164\n"
     ]
    }
   ],
   "source": [
    "automl_log.fit(x_train, y_train, task=\"regression\",metric='r2',time_budget=60,estimator_list = ['lgbm'],\n",
    "          n_splits=5)"
   ]
  },
  {
   "cell_type": "markdown",
   "id": "nJJSwFweD-n7",
   "metadata": {
    "id": "nJJSwFweD-n7"
   },
   "source": []
  },
  {
   "cell_type": "code",
   "execution_count": 75,
   "id": "ddf548bb",
   "metadata": {
    "colab": {
     "base_uri": "https://localhost:8080/"
    },
    "id": "ddf548bb",
    "outputId": "1218998e-ac49-41f8-a29f-43120c795d40"
   },
   "outputs": [
    {
     "name": "stdout",
     "output_type": "stream",
     "text": [
      "Best r2 on validation data: 0.1512\n"
     ]
    }
   ],
   "source": [
    "print('Best r2 on validation data: {0:.4g}'.format(1-automl_log.best_loss))"
   ]
  },
  {
   "cell_type": "code",
   "execution_count": 76,
   "id": "7a345d13",
   "metadata": {
    "colab": {
     "base_uri": "https://localhost:8080/",
     "height": 408
    },
    "id": "7a345d13",
    "outputId": "62e7dc98-5e7b-4e97-de5f-6d02bb1746a3"
   },
   "outputs": [
    {
     "data": {
      "text/plain": [
       "Text(0.5, 1.0, 'Feature Importance')"
      ]
     },
     "execution_count": 76,
     "metadata": {},
     "output_type": "execute_result"
    },
    {
     "data": {
      "image/png": "[encoded data removed]",
      "text/plain": [
       "<Figure size 864x432 with 1 Axes>"
      ]
     },
     "metadata": {
      "needs_background": "light"
     },
     "output_type": "display_data"
    }
   ],
   "source": [
    "feature_importance = automl_log.feature_importances_\n",
    "sorted_idx = np.argsort(feature_importance)[-25:]\n",
    "\n",
    "fig = plt.figure(figsize=(12, 6))\n",
    "plt.barh(range(len(sorted_idx)), feature_importance[sorted_idx], align='center')\n",
    "plt.yticks(range(len(sorted_idx)), np.array(x_train.columns)[sorted_idx])\n",
    "plt.title('Feature Importance')"
   ]
  },
  {
   "cell_type": "markdown",
   "id": "7e111497",
   "metadata": {},
   "source": [
    "# Converting to CSV"
   ]
  },
  {
   "cell_type": "code",
   "execution_count": 490,
   "id": "5f4499f9",
   "metadata": {
    "id": "5f4499f9"
   },
   "outputs": [],
   "source": [
    "ss['cltv'] = automl_log.predict(x_test)"
   ]
  },
  {
   "cell_type": "code",
   "execution_count": 491,
   "id": "5092e9a8",
   "metadata": {
    "id": "5092e9a8"
   },
   "outputs": [],
   "source": [
    "ss.to_csv('predict.csv', index=False)"
   ]
  },
  {
   "cell_type": "code",
   "execution_count": 126,
   "id": "d3744011",
   "metadata": {
    "id": "d3744011"
   },
   "outputs": [],
   "source": [
    "ss = pd.read_csv(\"drive/MyDrive/Competition/sample_submission.csv\")"
   ]
  },
  {
   "cell_type": "markdown",
   "id": "fca71bc9",
   "metadata": {},
   "source": [
    "# LazyPredict"
   ]
  },
  {
   "cell_type": "code",
   "execution_count": 36,
   "id": "ApbujiMy6mJU",
   "metadata": {
    "id": "ApbujiMy6mJU"
   },
   "outputs": [
    {
     "name": "stderr",
     "output_type": "stream",
     "text": [
      " 26%|██▌       | 11/42 [00:26<01:42,  3.30s/it]"
     ]
    },
    {
     "name": "stdout",
     "output_type": "stream",
     "text": [
      "GaussianProcessRegressor model failed to execute\n",
      "Unable to allocate 38.1 GiB for an array with shape (71513, 71513) and data type float64\n"
     ]
    },
    {
     "name": "stderr",
     "output_type": "stream",
     "text": [
      " 40%|████      | 17/42 [00:40<00:51,  2.06s/it]"
     ]
    },
    {
     "name": "stdout",
     "output_type": "stream",
     "text": [
      "KernelRidge model failed to execute\n",
      "Unable to allocate 38.1 GiB for an array with shape (71513, 71513) and data type float64\n"
     ]
    },
    {
     "name": "stderr",
     "output_type": "stream",
     "text": [
      " 62%|██████▏   | 26/42 [00:50<00:33,  2.10s/it]"
     ]
    },
    {
     "name": "stdout",
     "output_type": "stream",
     "text": [
      "MLPRegressor model failed to execute\n",
      "underflow encountered in true_divide\n"
     ]
    },
    {
     "name": "stderr",
     "output_type": "stream",
     "text": [
      " 74%|███████▍  | 31/42 [09:38<08:36, 46.97s/it] "
     ]
    },
    {
     "name": "stdout",
     "output_type": "stream",
     "text": [
      "QuantileRegressor model failed to execute\n",
      "Unable to allocate 38.1 GiB for an array with shape (71513, 71513) and data type float64\n"
     ]
    },
    {
     "name": "stderr",
     "output_type": "stream",
     "text": [
      "100%|██████████| 42/42 [18:59<00:00, 27.13s/it] "
     ]
    },
    {
     "name": "stdout",
     "output_type": "stream",
     "text": [
      "                               Adjusted R-Squared  R-Squared      RMSE  \\\n",
      "Model                                                                    \n",
      "GradientBoostingRegressor                    0.16       0.16  82021.59   \n",
      "HistGradientBoostingRegressor                0.16       0.16  82082.32   \n",
      "LGBMRegressor                                0.16       0.16  82157.73   \n",
      "PoissonRegressor                             0.16       0.16  82171.28   \n",
      "LassoLars                                    0.15       0.15  82402.33   \n",
      "LassoCV                                      0.15       0.15  82413.22   \n",
      "Lasso                                        0.15       0.15  82415.19   \n",
      "LassoLarsIC                                  0.15       0.15  82415.25   \n",
      "LarsCV                                       0.15       0.15  82415.25   \n",
      "Lars                                         0.15       0.15  82415.25   \n",
      "LassoLarsCV                                  0.15       0.15  82415.25   \n",
      "Ridge                                        0.15       0.15  82415.26   \n",
      "RidgeCV                                      0.15       0.15  82415.29   \n",
      "BayesianRidge                                0.15       0.15  82415.55   \n",
      "LinearRegression                             0.15       0.15  82415.95   \n",
      "TransformedTargetRegressor                   0.15       0.15  82415.95   \n",
      "OrthogonalMatchingPursuitCV                  0.15       0.15  82473.48   \n",
      "SGDRegressor                                 0.15       0.15  82486.49   \n",
      "ElasticNet                                   0.14       0.14  83060.42   \n",
      "XGBRegressor                                 0.13       0.13  83220.38   \n",
      "OrthogonalMatchingPursuit                    0.13       0.13  83248.91   \n",
      "GammaRegressor                               0.12       0.12  83767.44   \n",
      "TweedieRegressor                             0.12       0.12  83867.05   \n",
      "HuberRegressor                               0.05       0.05  87127.40   \n",
      "PassiveAggressiveRegressor                   0.03       0.03  88082.90   \n",
      "RandomForestRegressor                        0.03       0.03  88150.22   \n",
      "AdaBoostRegressor                            0.01       0.01  88858.90   \n",
      "ElasticNetCV                                 0.01       0.01  88880.72   \n",
      "DummyRegressor                              -0.00      -0.00  89461.35   \n",
      "KNeighborsRegressor                         -0.00      -0.00  89544.99   \n",
      "NuSVR                                       -0.04      -0.04  91047.52   \n",
      "BaggingRegressor                            -0.05      -0.05  91504.11   \n",
      "RANSACRegressor                             -0.10      -0.10  93658.68   \n",
      "SVR                                         -0.11      -0.11  94231.13   \n",
      "ExtraTreesRegressor                         -0.14      -0.14  95655.16   \n",
      "LinearSVR                                   -0.20      -0.19  97770.57   \n",
      "ExtraTreeRegressor                          -0.71      -0.71 116833.40   \n",
      "DecisionTreeRegressor                       -0.75      -0.75 118410.86   \n",
      "\n",
      "                               Time Taken  \n",
      "Model                                      \n",
      "GradientBoostingRegressor            6.38  \n",
      "HistGradientBoostingRegressor        0.47  \n",
      "LGBMRegressor                        0.64  \n",
      "PoissonRegressor                     0.11  \n",
      "LassoLars                            0.10  \n",
      "LassoCV                              0.78  \n",
      "Lasso                                1.34  \n",
      "LassoLarsIC                          0.16  \n",
      "LarsCV                               0.39  \n",
      "Lars                                 0.10  \n",
      "LassoLarsCV                          0.37  \n",
      "Ridge                                0.09  \n",
      "RidgeCV                              0.14  \n",
      "BayesianRidge                        0.15  \n",
      "LinearRegression                     0.11  \n",
      "TransformedTargetRegressor           0.14  \n",
      "OrthogonalMatchingPursuitCV          0.27  \n",
      "SGDRegressor                         0.28  \n",
      "ElasticNet                           0.12  \n",
      "XGBRegressor                         4.34  \n",
      "OrthogonalMatchingPursuit            0.09  \n",
      "GammaRegressor                       0.09  \n",
      "TweedieRegressor                     0.12  \n",
      "HuberRegressor                       0.40  \n",
      "PassiveAggressiveRegressor           0.25  \n",
      "RandomForestRegressor               29.00  \n",
      "AdaBoostRegressor                    2.00  \n",
      "ElasticNetCV                         0.67  \n",
      "DummyRegressor                       0.09  \n",
      "KNeighborsRegressor                  6.83  \n",
      "NuSVR                              526.97  \n",
      "BaggingRegressor                     2.97  \n",
      "RANSACRegressor                      0.48  \n",
      "SVR                                525.95  \n",
      "ExtraTreesRegressor                 19.43  \n",
      "LinearSVR                            0.15  \n",
      "ExtraTreeRegressor                   0.28  \n",
      "DecisionTreeRegressor                0.54  \n"
     ]
    },
    {
     "name": "stderr",
     "output_type": "stream",
     "text": [
      "\n"
     ]
    }
   ],
   "source": [
    "#This takes lot of time to run\n",
    "\n",
    "X_train, X_test, y_train, y_test = train_test_split(x_train, y_train, test_size=0.2, random_state=42)\n",
    "\n",
    "reg = LazyRegressor(verbose=0, ignore_warnings=False, custom_metric=None)\n",
    "models, predictions = reg.fit(X_train, X_test, y_train, y_test)\n",
    "\n",
    "print(models)"
   ]
  },
  {
   "cell_type": "markdown",
   "id": "61f4880b",
   "metadata": {},
   "source": [
    "Tried XGBoost, LGBM using AutoML\n",
    "Tried Lazy Predict and GradientBoostingRegressor had the highest r2_score\n",
    "\n",
    "Uploaded both to get the results for Private Data\n",
    "LGBM performed well with High accuracy"
   ]
  },
  {
   "cell_type": "code",
   "execution_count": null,
   "id": "7cad323b",
   "metadata": {},
   "outputs": [],
   "source": []
  }
 ],
 "metadata": {
  "colab": {
   "provenance": []
  },
  "kernelspec": {
   "display_name": "Python 3 (ipykernel)",
   "language": "python",
   "name": "python3"
  },
  "language_info": {
   "codemirror_mode": {
    "name": "ipython",
    "version": 3
   },
   "file_extension": ".py",
   "mimetype": "text/x-python",
   "name": "python",
   "nbconvert_exporter": "python",
   "pygments_lexer": "ipython3",
   "version": "3.9.12"
  }
 },
 "nbformat": 4,
 "nbformat_minor": 5
}
